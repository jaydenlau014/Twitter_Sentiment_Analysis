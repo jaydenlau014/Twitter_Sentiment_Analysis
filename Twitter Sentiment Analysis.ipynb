{
 "cells": [
  {
   "cell_type": "markdown",
   "id": "fa3b6b7e",
   "metadata": {},
   "source": [
    "# Import Libraries"
   ]
  },
  {
   "cell_type": "code",
   "execution_count": 1,
   "id": "f96179a1",
   "metadata": {},
   "outputs": [],
   "source": [
    "# Import Library\n",
    "import pandas as pd\n",
    "import numpy as np\n",
    "import matplotlib.pyplot as plt\n",
    "import seaborn as sns\n",
    "\n",
    "import tensorflow as tf\n",
    "import keras \n",
    "from keras.layers import Dense, Input, Embedding, LSTM, Dropout, BatchNormalization\n",
    "from keras.preprocessing.text import Tokenizer\n",
    "from keras.utils import to_categorical, pad_sequences\n",
    "\n",
    "from sklearn.model_selection import GridSearchCV\n",
    "from sklearn.metrics import accuracy_score, precision_recall_fscore_support, classification_report, confusion_matrix\n",
    "from sklearn.feature_extraction.text import TfidfVectorizer\n",
    "from sklearn.linear_model import LogisticRegression\n",
    "from sklearn.preprocessing import LabelEncoder\n",
    "\n",
    "import nltk\n",
    "from nltk.sentiment import SentimentIntensityAnalyzer\n",
    "from nltk.corpus import stopwords\n",
    "import string"
   ]
  },
  {
   "cell_type": "code",
   "execution_count": 2,
   "id": "19b7ca1e",
   "metadata": {},
   "outputs": [],
   "source": [
    "import warnings\n",
    "warnings.filterwarnings('ignore')"
   ]
  },
  {
   "cell_type": "markdown",
   "id": "2f8ef148",
   "metadata": {},
   "source": [
    "# Import Dataset"
   ]
  },
  {
   "cell_type": "code",
   "execution_count": 3,
   "id": "e41ded65",
   "metadata": {
    "scrolled": true
   },
   "outputs": [
    {
     "name": "stdout",
     "output_type": "stream",
     "text": [
      "Size of training dataset: (74682, 4)\n"
     ]
    },
    {
     "data": {
      "text/html": [
       "<div>\n",
       "<style scoped>\n",
       "    .dataframe tbody tr th:only-of-type {\n",
       "        vertical-align: middle;\n",
       "    }\n",
       "\n",
       "    .dataframe tbody tr th {\n",
       "        vertical-align: top;\n",
       "    }\n",
       "\n",
       "    .dataframe thead th {\n",
       "        text-align: right;\n",
       "    }\n",
       "</style>\n",
       "<table border=\"1\" class=\"dataframe\">\n",
       "  <thead>\n",
       "    <tr style=\"text-align: right;\">\n",
       "      <th></th>\n",
       "      <th>Tweet_Id</th>\n",
       "      <th>Entity</th>\n",
       "      <th>Sentiment</th>\n",
       "      <th>Tweet content</th>\n",
       "    </tr>\n",
       "  </thead>\n",
       "  <tbody>\n",
       "    <tr>\n",
       "      <th>0</th>\n",
       "      <td>2401</td>\n",
       "      <td>Borderlands</td>\n",
       "      <td>Positive</td>\n",
       "      <td>im getting on borderlands and i will murder yo...</td>\n",
       "    </tr>\n",
       "    <tr>\n",
       "      <th>1</th>\n",
       "      <td>2401</td>\n",
       "      <td>Borderlands</td>\n",
       "      <td>Positive</td>\n",
       "      <td>I am coming to the borders and I will kill you...</td>\n",
       "    </tr>\n",
       "    <tr>\n",
       "      <th>2</th>\n",
       "      <td>2401</td>\n",
       "      <td>Borderlands</td>\n",
       "      <td>Positive</td>\n",
       "      <td>im getting on borderlands and i will kill you ...</td>\n",
       "    </tr>\n",
       "    <tr>\n",
       "      <th>3</th>\n",
       "      <td>2401</td>\n",
       "      <td>Borderlands</td>\n",
       "      <td>Positive</td>\n",
       "      <td>im coming on borderlands and i will murder you...</td>\n",
       "    </tr>\n",
       "    <tr>\n",
       "      <th>4</th>\n",
       "      <td>2401</td>\n",
       "      <td>Borderlands</td>\n",
       "      <td>Positive</td>\n",
       "      <td>im getting on borderlands 2 and i will murder ...</td>\n",
       "    </tr>\n",
       "  </tbody>\n",
       "</table>\n",
       "</div>"
      ],
      "text/plain": [
       "   Tweet_Id       Entity Sentiment  \\\n",
       "0      2401  Borderlands  Positive   \n",
       "1      2401  Borderlands  Positive   \n",
       "2      2401  Borderlands  Positive   \n",
       "3      2401  Borderlands  Positive   \n",
       "4      2401  Borderlands  Positive   \n",
       "\n",
       "                                       Tweet content  \n",
       "0  im getting on borderlands and i will murder yo...  \n",
       "1  I am coming to the borders and I will kill you...  \n",
       "2  im getting on borderlands and i will kill you ...  \n",
       "3  im coming on borderlands and i will murder you...  \n",
       "4  im getting on borderlands 2 and i will murder ...  "
      ]
     },
     "execution_count": 3,
     "metadata": {},
     "output_type": "execute_result"
    }
   ],
   "source": [
    "df_train = pd.read_csv('twitter_training.csv', header=None, names=['Tweet_Id','Entity','Sentiment','Tweet content'])\n",
    "print('Size of training dataset: {}' .format(df_train.shape))\n",
    "df_train.head()"
   ]
  },
  {
   "cell_type": "code",
   "execution_count": 4,
   "id": "5b248a61",
   "metadata": {
    "scrolled": false
   },
   "outputs": [
    {
     "name": "stdout",
     "output_type": "stream",
     "text": [
      "Size of testing dataset: (1000, 4)\n"
     ]
    },
    {
     "data": {
      "text/html": [
       "<div>\n",
       "<style scoped>\n",
       "    .dataframe tbody tr th:only-of-type {\n",
       "        vertical-align: middle;\n",
       "    }\n",
       "\n",
       "    .dataframe tbody tr th {\n",
       "        vertical-align: top;\n",
       "    }\n",
       "\n",
       "    .dataframe thead th {\n",
       "        text-align: right;\n",
       "    }\n",
       "</style>\n",
       "<table border=\"1\" class=\"dataframe\">\n",
       "  <thead>\n",
       "    <tr style=\"text-align: right;\">\n",
       "      <th></th>\n",
       "      <th>Tweet_Id</th>\n",
       "      <th>Entity</th>\n",
       "      <th>Sentiment</th>\n",
       "      <th>Tweet content</th>\n",
       "    </tr>\n",
       "  </thead>\n",
       "  <tbody>\n",
       "    <tr>\n",
       "      <th>0</th>\n",
       "      <td>3364</td>\n",
       "      <td>Facebook</td>\n",
       "      <td>Irrelevant</td>\n",
       "      <td>I mentioned on Facebook that I was struggling ...</td>\n",
       "    </tr>\n",
       "    <tr>\n",
       "      <th>1</th>\n",
       "      <td>352</td>\n",
       "      <td>Amazon</td>\n",
       "      <td>Neutral</td>\n",
       "      <td>BBC News - Amazon boss Jeff Bezos rejects clai...</td>\n",
       "    </tr>\n",
       "    <tr>\n",
       "      <th>2</th>\n",
       "      <td>8312</td>\n",
       "      <td>Microsoft</td>\n",
       "      <td>Negative</td>\n",
       "      <td>@Microsoft Why do I pay for WORD when it funct...</td>\n",
       "    </tr>\n",
       "    <tr>\n",
       "      <th>3</th>\n",
       "      <td>4371</td>\n",
       "      <td>CS-GO</td>\n",
       "      <td>Negative</td>\n",
       "      <td>CSGO matchmaking is so full of closet hacking,...</td>\n",
       "    </tr>\n",
       "    <tr>\n",
       "      <th>4</th>\n",
       "      <td>4433</td>\n",
       "      <td>Google</td>\n",
       "      <td>Neutral</td>\n",
       "      <td>Now the President is slapping Americans in the...</td>\n",
       "    </tr>\n",
       "  </tbody>\n",
       "</table>\n",
       "</div>"
      ],
      "text/plain": [
       "   Tweet_Id     Entity   Sentiment  \\\n",
       "0      3364   Facebook  Irrelevant   \n",
       "1       352     Amazon     Neutral   \n",
       "2      8312  Microsoft    Negative   \n",
       "3      4371      CS-GO    Negative   \n",
       "4      4433     Google     Neutral   \n",
       "\n",
       "                                       Tweet content  \n",
       "0  I mentioned on Facebook that I was struggling ...  \n",
       "1  BBC News - Amazon boss Jeff Bezos rejects clai...  \n",
       "2  @Microsoft Why do I pay for WORD when it funct...  \n",
       "3  CSGO matchmaking is so full of closet hacking,...  \n",
       "4  Now the President is slapping Americans in the...  "
      ]
     },
     "execution_count": 4,
     "metadata": {},
     "output_type": "execute_result"
    }
   ],
   "source": [
    "df_test = pd.read_csv('twitter_validation.csv', header=None, names=['Tweet_Id','Entity','Sentiment','Tweet content'])\n",
    "print('Size of testing dataset: {}' .format(df_test.shape))\n",
    "df_test.head()"
   ]
  },
  {
   "cell_type": "markdown",
   "id": "36881c45",
   "metadata": {},
   "source": [
    "# EDA"
   ]
  },
  {
   "cell_type": "code",
   "execution_count": 5,
   "id": "b870c0d9",
   "metadata": {
    "scrolled": true
   },
   "outputs": [
    {
     "name": "stdout",
     "output_type": "stream",
     "text": [
      "<class 'pandas.core.frame.DataFrame'>\n",
      "RangeIndex: 74682 entries, 0 to 74681\n",
      "Data columns (total 4 columns):\n",
      " #   Column         Non-Null Count  Dtype \n",
      "---  ------         --------------  ----- \n",
      " 0   Tweet_Id       74682 non-null  int64 \n",
      " 1   Entity         74682 non-null  object\n",
      " 2   Sentiment      74682 non-null  object\n",
      " 3   Tweet content  73996 non-null  object\n",
      "dtypes: int64(1), object(3)\n",
      "memory usage: 2.3+ MB\n"
     ]
    }
   ],
   "source": [
    "# Training dataset information\n",
    "df_train.info()"
   ]
  },
  {
   "cell_type": "code",
   "execution_count": 6,
   "id": "45d0e55b",
   "metadata": {},
   "outputs": [
    {
     "name": "stdout",
     "output_type": "stream",
     "text": [
      "<class 'pandas.core.frame.DataFrame'>\n",
      "RangeIndex: 1000 entries, 0 to 999\n",
      "Data columns (total 4 columns):\n",
      " #   Column         Non-Null Count  Dtype \n",
      "---  ------         --------------  ----- \n",
      " 0   Tweet_Id       1000 non-null   int64 \n",
      " 1   Entity         1000 non-null   object\n",
      " 2   Sentiment      1000 non-null   object\n",
      " 3   Tweet content  1000 non-null   object\n",
      "dtypes: int64(1), object(3)\n",
      "memory usage: 31.4+ KB\n"
     ]
    }
   ],
   "source": [
    "# Testing dataset information\n",
    "df_test.info()"
   ]
  },
  {
   "cell_type": "code",
   "execution_count": 7,
   "id": "dd51ab1a",
   "metadata": {
    "scrolled": false
   },
   "outputs": [
    {
     "data": {
      "image/png": "[encoded data removed]",
      "text/plain": [
       "<Figure size 600x300 with 1 Axes>"
      ]
     },
     "metadata": {},
     "output_type": "display_data"
    }
   ],
   "source": [
    "# Count of Sentiment\n",
    "df_train['Sentiment'].value_counts().plot(kind='bar', title='Count of Sentiment in Twitter', figsize=(6,3))\n",
    "plt.xticks(rotation=0)\n",
    "plt.show()"
   ]
  },
  {
   "cell_type": "markdown",
   "id": "6b24440f",
   "metadata": {},
   "source": [
    "# Data Preprocessing"
   ]
  },
  {
   "cell_type": "code",
   "execution_count": 8,
   "id": "a1f69305",
   "metadata": {
    "scrolled": true
   },
   "outputs": [],
   "source": [
    "# Drop rows with Null value\n",
    "df_train = df_train.dropna()\n",
    "df_test = df_test.dropna()"
   ]
  },
  {
   "cell_type": "code",
   "execution_count": 9,
   "id": "b5cfe885",
   "metadata": {},
   "outputs": [],
   "source": [
    "def evaluate_metrics(y_test, yhat):\n",
    "    metrics = {}\n",
    "    metrics['Accuracy'] = round(accuracy_score(y_test, yhat), 3)\n",
    "    precision, recall, f1_score, _ = precision_recall_fscore_support(y_test, yhat)\n",
    "    metrics['Precision'] = round(np.mean(precision),3)\n",
    "    metrics['Recall'] = round(np.mean(recall),3)\n",
    "    metrics['F1'] = round(np.mean(f1_score),3)\n",
    "    \n",
    "    return metrics"
   ]
  },
  {
   "cell_type": "code",
   "execution_count": 10,
   "id": "34df5951",
   "metadata": {},
   "outputs": [],
   "source": [
    "# Define some function to help in remove punctuation, stopwords and lemmatize the words in the text.\n",
    "def remove_punctuation(text):\n",
    "    for punc in string.punctuation:\n",
    "        if punc in text:\n",
    "             text = text.replace(punc,' ')\n",
    "    return text.strip().lower()\n",
    "\n",
    "def remove_stopword(text):\n",
    "    text = ' '.join([x for x in text.split() if x not in stopwords.words('english')])\n",
    "    return text\n",
    "\n",
    "def lemmatize(text):\n",
    "    text = nltk.word_tokenize(text)\n",
    "    text = [nltk.WordNetLemmatizer().lemmatize(x) for x in text]\n",
    "    text = \" \".join(text)\n",
    "    return text"
   ]
  },
  {
   "cell_type": "code",
   "execution_count": 11,
   "id": "50243b08",
   "metadata": {},
   "outputs": [],
   "source": [
    "# Define function to present confusion matrix\n",
    "def plot_graph(y_test, yhat, labels, title):\n",
    "    sns.set_style('white')\n",
    "    sns.set_context('notebook')\n",
    "    cm = confusion_matrix(y_test, yhat)\n",
    "    plt.figure(figsize=(6,4))\n",
    "    graph = sns.heatmap(cm,fmt='d', annot=True, linewidth=1, vmin=0, vmax=300)\n",
    "    graph.set(xlabel = 'Predicted', ylabel='Actual', title='Confusion Matrix for {} Model'.format(title))\n",
    "    graph.set_yticklabels(labels)\n",
    "    graph.set_xticklabels(labels)\n",
    "    plt.show()\n",
    "    return graph\n"
   ]
  },
  {
   "cell_type": "markdown",
   "id": "638320cb",
   "metadata": {},
   "source": [
    "# Sentiment Analysis using Few Approaches"
   ]
  },
  {
   "cell_type": "markdown",
   "id": "2f2ed6b2",
   "metadata": {},
   "source": [
    "### 1. Bag of Word Vectorization-based Model"
   ]
  },
  {
   "cell_type": "code",
   "execution_count": 12,
   "id": "efe6dfe9",
   "metadata": {
    "scrolled": true
   },
   "outputs": [
    {
     "data": {
      "text/html": [
       "<div>\n",
       "<style scoped>\n",
       "    .dataframe tbody tr th:only-of-type {\n",
       "        vertical-align: middle;\n",
       "    }\n",
       "\n",
       "    .dataframe tbody tr th {\n",
       "        vertical-align: top;\n",
       "    }\n",
       "\n",
       "    .dataframe thead th {\n",
       "        text-align: right;\n",
       "    }\n",
       "</style>\n",
       "<table border=\"1\" class=\"dataframe\">\n",
       "  <thead>\n",
       "    <tr style=\"text-align: right;\">\n",
       "      <th></th>\n",
       "      <th>Tweet content</th>\n",
       "    </tr>\n",
       "  </thead>\n",
       "  <tbody>\n",
       "    <tr>\n",
       "      <th>0</th>\n",
       "      <td>im getting borderland murder</td>\n",
       "    </tr>\n",
       "    <tr>\n",
       "      <th>1</th>\n",
       "      <td>coming border kill</td>\n",
       "    </tr>\n",
       "    <tr>\n",
       "      <th>2</th>\n",
       "      <td>im getting borderland kill</td>\n",
       "    </tr>\n",
       "    <tr>\n",
       "      <th>3</th>\n",
       "      <td>im coming borderland murder</td>\n",
       "    </tr>\n",
       "    <tr>\n",
       "      <th>4</th>\n",
       "      <td>im getting borderland 2 murder</td>\n",
       "    </tr>\n",
       "  </tbody>\n",
       "</table>\n",
       "</div>"
      ],
      "text/plain": [
       "                    Tweet content\n",
       "0    im getting borderland murder\n",
       "1              coming border kill\n",
       "2      im getting borderland kill\n",
       "3     im coming borderland murder\n",
       "4  im getting borderland 2 murder"
      ]
     },
     "execution_count": 12,
     "metadata": {},
     "output_type": "execute_result"
    }
   ],
   "source": [
    "# Change Tweet Content column in training sets\n",
    "df_train_clean = pd.DataFrame()\n",
    "df_train_clean['Tweet content'] = df_train['Tweet content'].apply(remove_punctuation)\n",
    "df_train_clean['Tweet content'] = df_train_clean['Tweet content'].apply(remove_stopword)\n",
    "df_train_clean['Tweet content'] = df_train_clean['Tweet content'].apply(lemmatize)\n",
    "df_train_clean.head()"
   ]
  },
  {
   "cell_type": "code",
   "execution_count": 13,
   "id": "e1cba861",
   "metadata": {},
   "outputs": [
    {
     "data": {
      "text/html": [
       "<div>\n",
       "<style scoped>\n",
       "    .dataframe tbody tr th:only-of-type {\n",
       "        vertical-align: middle;\n",
       "    }\n",
       "\n",
       "    .dataframe tbody tr th {\n",
       "        vertical-align: top;\n",
       "    }\n",
       "\n",
       "    .dataframe thead th {\n",
       "        text-align: right;\n",
       "    }\n",
       "</style>\n",
       "<table border=\"1\" class=\"dataframe\">\n",
       "  <thead>\n",
       "    <tr style=\"text-align: right;\">\n",
       "      <th></th>\n",
       "      <th>Tweet content</th>\n",
       "    </tr>\n",
       "  </thead>\n",
       "  <tbody>\n",
       "    <tr>\n",
       "      <th>0</th>\n",
       "      <td>mentioned facebook struggling motivation go ru...</td>\n",
       "    </tr>\n",
       "    <tr>\n",
       "      <th>1</th>\n",
       "      <td>bbc news amazon bos jeff bezos reject claim co...</td>\n",
       "    </tr>\n",
       "    <tr>\n",
       "      <th>2</th>\n",
       "      <td>microsoft pay word function poorly samsungus c...</td>\n",
       "    </tr>\n",
       "    <tr>\n",
       "      <th>3</th>\n",
       "      <td>csgo matchmaking full closet hacking truly awf...</td>\n",
       "    </tr>\n",
       "    <tr>\n",
       "      <th>4</th>\n",
       "      <td>president slapping american face really commit...</td>\n",
       "    </tr>\n",
       "  </tbody>\n",
       "</table>\n",
       "</div>"
      ],
      "text/plain": [
       "                                       Tweet content\n",
       "0  mentioned facebook struggling motivation go ru...\n",
       "1  bbc news amazon bos jeff bezos reject claim co...\n",
       "2  microsoft pay word function poorly samsungus c...\n",
       "3  csgo matchmaking full closet hacking truly awf...\n",
       "4  president slapping american face really commit..."
      ]
     },
     "execution_count": 13,
     "metadata": {},
     "output_type": "execute_result"
    }
   ],
   "source": [
    "# Change Tweet Content column in testing sets\n",
    "df_test_clean = pd.DataFrame()\n",
    "df_test_clean['Tweet content'] = df_test['Tweet content'].apply(remove_punctuation)\n",
    "df_test_clean['Tweet content'] = df_test_clean['Tweet content'].apply(remove_stopword)\n",
    "df_test_clean['Tweet content'] = df_test_clean['Tweet content'].apply(lemmatize)\n",
    "df_test_clean.head()"
   ]
  },
  {
   "cell_type": "code",
   "execution_count": 14,
   "id": "2771b9c7",
   "metadata": {},
   "outputs": [],
   "source": [
    "# Split data into X and y\n",
    "X_train_bow = df_train_clean['Tweet content']\n",
    "X_test_bow = df_test_clean['Tweet content']\n",
    "y_train = df_train['Sentiment']\n",
    "y_test = df_test['Sentiment']\n",
    "\n",
    "tfidf = TfidfVectorizer().fit(X_train_bow)\n",
    "X_train_bow = tfidf.transform(X_train_bow)\n",
    "X_test_bow = tfidf.transform(X_test_bow)"
   ]
  },
  {
   "cell_type": "code",
   "execution_count": 15,
   "id": "b34f55a9",
   "metadata": {},
   "outputs": [
    {
     "data": {
      "text/plain": [
       "{'Accuracy': 0.908, 'Precision': 0.908, 'Recall': 0.907, 'F1': 0.907}"
      ]
     },
     "execution_count": 15,
     "metadata": {},
     "output_type": "execute_result"
    }
   ],
   "source": [
    "# Train machine learning using Logistic Regression algorithms\n",
    "lr = LogisticRegression(n_jobs=-1)\n",
    "\n",
    "lr.fit(X_train_bow,y_train)\n",
    "yhat_lr = lr.predict(X_test_bow)\n",
    "\n",
    "# Show evaluation metrics\n",
    "score_bow = evaluate_metrics(y_test, yhat_lr)\n",
    "score_bow"
   ]
  },
  {
   "cell_type": "code",
   "execution_count": 16,
   "id": "0d6d9ac9",
   "metadata": {},
   "outputs": [
    {
     "data": {
      "image/png": "[encoded data removed]",
      "text/plain": [
       "<Figure size 600x400 with 2 Axes>"
      ]
     },
     "metadata": {},
     "output_type": "display_data"
    },
    {
     "data": {
      "text/plain": [
       "<AxesSubplot:title={'center':'Confusion Matrix for Bag of Words Model'}, xlabel='Predicted', ylabel='Actual'>"
      ]
     },
     "execution_count": 16,
     "metadata": {},
     "output_type": "execute_result"
    }
   ],
   "source": [
    "lr_labels = lr.classes_\n",
    "    \n",
    "plot_graph(y_test, yhat_lr, lr_labels, \"Bag of Words\")"
   ]
  },
  {
   "cell_type": "markdown",
   "id": "96797608",
   "metadata": {},
   "source": [
    "### 2. LSTM-based Model Approach"
   ]
  },
  {
   "cell_type": "code",
   "execution_count": 17,
   "id": "fcc254cd",
   "metadata": {
    "scrolled": true
   },
   "outputs": [],
   "source": [
    "# Data preprocessing for LSTM\n",
    "X_train_LSTM = df_train_clean['Tweet content']\n",
    "X_test_LSTM = df_test_clean['Tweet content']\n",
    "y_train = df_train['Sentiment']\n",
    "y_test = df_test[\"Sentiment\"]\n",
    "\n",
    "tokenizer = Tokenizer(num_words=500)\n",
    "tokenizer.fit_on_texts(X_train_LSTM.values)\n",
    "\n",
    "X_train_LSTM = tokenizer.texts_to_sequences(X_train_LSTM)\n",
    "X_test_LSTM = tokenizer.texts_to_sequences(X_test_LSTM)\n",
    "\n",
    "X_train_LSTM = pad_sequences(X_train_LSTM, maxlen=50)\n",
    "X_test_LSTM = pad_sequences(X_test_LSTM, maxlen=50)\n",
    "\n",
    "# Change categorical label into numerical label, then into sparse matrix\n",
    "le = LabelEncoder().fit(y_train)\n",
    "y_train_LSTM = le.transform(y_train)\n",
    "y_train_LSTM = to_categorical(y_train_LSTM)\n",
    "y_test_LSTM = le.transform(y_test)"
   ]
  },
  {
   "cell_type": "code",
   "execution_count": 18,
   "id": "93fc96d5",
   "metadata": {},
   "outputs": [],
   "source": [
    "# Form LSTM neural network\n",
    "model_input = Input(shape=(50,))\n",
    "x = Embedding(input_dim=500, output_dim=100)(model_input)\n",
    "x = LSTM(units=100)(x)\n",
    "x = Dropout(0.2)(x)\n",
    "x = Dense(units=256, activation='relu')(x)\n",
    "x = BatchNormalization()(x)\n",
    "x = Dense(units=64, activation='relu')(x)\n",
    "x = BatchNormalization()(x)\n",
    "model_output = Dense(units=4, activation='softmax')(x)\n",
    "\n",
    "model = keras.Model(model_input, model_output)"
   ]
  },
  {
   "cell_type": "code",
   "execution_count": 19,
   "id": "aabcceb0",
   "metadata": {
    "scrolled": false
   },
   "outputs": [
    {
     "name": "stdout",
     "output_type": "stream",
     "text": [
      "Epoch 1/50\n",
      "119/119 [==============================] - 38s 269ms/step - loss: 1.1836 - acc: 0.4840 - val_loss: 1.3405 - val_acc: 0.3838\n",
      "Epoch 2/50\n",
      "119/119 [==============================] - 31s 261ms/step - loss: 1.0133 - acc: 0.5708 - val_loss: 1.2992 - val_acc: 0.4216\n",
      "Epoch 3/50\n",
      "119/119 [==============================] - 33s 275ms/step - loss: 0.9461 - acc: 0.6023 - val_loss: 1.2876 - val_acc: 0.4325\n",
      "Epoch 4/50\n",
      "119/119 [==============================] - 36s 299ms/step - loss: 0.8840 - acc: 0.6319 - val_loss: 1.2937 - val_acc: 0.4362\n",
      "Epoch 5/50\n",
      "119/119 [==============================] - 32s 272ms/step - loss: 0.8359 - acc: 0.6519 - val_loss: 1.2505 - val_acc: 0.4722\n",
      "Epoch 6/50\n",
      "119/119 [==============================] - 32s 268ms/step - loss: 0.7794 - acc: 0.6786 - val_loss: 1.4143 - val_acc: 0.4213\n",
      "Epoch 7/50\n",
      "119/119 [==============================] - 34s 284ms/step - loss: 0.7370 - acc: 0.6993 - val_loss: 1.5008 - val_acc: 0.4521\n",
      "Epoch 8/50\n",
      "119/119 [==============================] - 32s 272ms/step - loss: 0.7061 - acc: 0.7114 - val_loss: 1.6477 - val_acc: 0.4134\n",
      "Epoch 9/50\n",
      "119/119 [==============================] - 35s 298ms/step - loss: 0.6676 - acc: 0.7279 - val_loss: 1.7829 - val_acc: 0.4130\n",
      "Epoch 10/50\n",
      "119/119 [==============================] - 33s 273ms/step - loss: 0.6444 - acc: 0.7374 - val_loss: 1.9061 - val_acc: 0.3978\n",
      "Epoch 11/50\n",
      "119/119 [==============================] - 30s 256ms/step - loss: 0.6148 - acc: 0.7503 - val_loss: 1.9867 - val_acc: 0.3891\n",
      "Epoch 12/50\n",
      "119/119 [==============================] - 33s 275ms/step - loss: 0.5965 - acc: 0.7580 - val_loss: 1.9171 - val_acc: 0.4203\n",
      "Epoch 13/50\n",
      "119/119 [==============================] - 33s 276ms/step - loss: 0.5774 - acc: 0.7664 - val_loss: 1.9667 - val_acc: 0.4041\n",
      "Epoch 14/50\n",
      "119/119 [==============================] - 30s 252ms/step - loss: 0.5613 - acc: 0.7714 - val_loss: 1.9727 - val_acc: 0.4351\n",
      "Epoch 15/50\n",
      "119/119 [==============================] - 32s 268ms/step - loss: 0.5419 - acc: 0.7806 - val_loss: 2.1431 - val_acc: 0.3984\n",
      "Epoch 16/50\n",
      "119/119 [==============================] - 32s 266ms/step - loss: 0.5262 - acc: 0.7853 - val_loss: 2.1440 - val_acc: 0.4278\n",
      "Epoch 17/50\n",
      "119/119 [==============================] - 32s 273ms/step - loss: 0.5131 - acc: 0.7906 - val_loss: 2.3052 - val_acc: 0.3969\n",
      "Epoch 18/50\n",
      "119/119 [==============================] - 31s 264ms/step - loss: 0.5017 - acc: 0.7962 - val_loss: 2.1842 - val_acc: 0.4189\n",
      "Epoch 19/50\n",
      "119/119 [==============================] - 31s 262ms/step - loss: 0.4882 - acc: 0.8017 - val_loss: 2.2002 - val_acc: 0.4232\n",
      "Epoch 20/50\n",
      "119/119 [==============================] - 30s 255ms/step - loss: 0.4777 - acc: 0.8066 - val_loss: 2.2738 - val_acc: 0.4114\n",
      "Epoch 21/50\n",
      "119/119 [==============================] - 31s 258ms/step - loss: 0.4691 - acc: 0.8084 - val_loss: 2.3674 - val_acc: 0.4115\n",
      "Epoch 22/50\n",
      "119/119 [==============================] - 31s 257ms/step - loss: 0.4594 - acc: 0.8118 - val_loss: 2.4851 - val_acc: 0.4143\n",
      "Epoch 23/50\n",
      "119/119 [==============================] - 31s 263ms/step - loss: 0.4491 - acc: 0.8170 - val_loss: 2.4848 - val_acc: 0.4109\n",
      "Epoch 24/50\n",
      "119/119 [==============================] - 41s 342ms/step - loss: 0.4393 - acc: 0.8205 - val_loss: 2.5291 - val_acc: 0.4097\n",
      "Epoch 25/50\n",
      "119/119 [==============================] - 36s 301ms/step - loss: 0.4319 - acc: 0.8205 - val_loss: 2.4501 - val_acc: 0.4157\n",
      "Epoch 26/50\n",
      "119/119 [==============================] - 34s 284ms/step - loss: 0.4314 - acc: 0.8225 - val_loss: 2.4225 - val_acc: 0.4114\n",
      "Epoch 27/50\n",
      "119/119 [==============================] - 34s 284ms/step - loss: 0.4204 - acc: 0.8266 - val_loss: 2.5068 - val_acc: 0.4087\n",
      "Epoch 28/50\n",
      "119/119 [==============================] - 31s 259ms/step - loss: 0.4174 - acc: 0.8287 - val_loss: 2.4996 - val_acc: 0.4082\n",
      "Epoch 29/50\n",
      "119/119 [==============================] - 31s 265ms/step - loss: 0.4053 - acc: 0.8329 - val_loss: 2.5280 - val_acc: 0.4153\n",
      "Epoch 30/50\n",
      "119/119 [==============================] - 31s 260ms/step - loss: 0.4037 - acc: 0.8332 - val_loss: 2.5053 - val_acc: 0.4341\n",
      "Epoch 31/50\n",
      "119/119 [==============================] - 35s 295ms/step - loss: 0.3963 - acc: 0.8363 - val_loss: 2.6572 - val_acc: 0.4045\n",
      "Epoch 32/50\n",
      "119/119 [==============================] - 40s 335ms/step - loss: 0.3966 - acc: 0.8354 - val_loss: 2.6395 - val_acc: 0.4070\n",
      "Epoch 33/50\n",
      "119/119 [==============================] - 34s 287ms/step - loss: 0.3850 - acc: 0.8395 - val_loss: 2.6893 - val_acc: 0.4182\n",
      "Epoch 34/50\n",
      "119/119 [==============================] - 34s 284ms/step - loss: 0.3813 - acc: 0.8422 - val_loss: 2.9912 - val_acc: 0.3812\n",
      "Epoch 35/50\n",
      "119/119 [==============================] - 33s 280ms/step - loss: 0.3772 - acc: 0.8432 - val_loss: 2.8134 - val_acc: 0.4124\n",
      "Epoch 36/50\n",
      "119/119 [==============================] - 33s 279ms/step - loss: 0.3772 - acc: 0.8445 - val_loss: 2.6500 - val_acc: 0.4139\n",
      "Epoch 37/50\n",
      "119/119 [==============================] - 34s 282ms/step - loss: 0.3707 - acc: 0.8458 - val_loss: 2.8953 - val_acc: 0.3983\n",
      "Epoch 38/50\n",
      "119/119 [==============================] - 33s 280ms/step - loss: 0.3678 - acc: 0.8462 - val_loss: 2.8093 - val_acc: 0.4153\n",
      "Epoch 39/50\n",
      "119/119 [==============================] - 34s 290ms/step - loss: 0.3631 - acc: 0.8482 - val_loss: 2.9042 - val_acc: 0.3985\n",
      "Epoch 40/50\n",
      "119/119 [==============================] - 34s 286ms/step - loss: 0.3583 - acc: 0.8503 - val_loss: 2.8381 - val_acc: 0.4095\n",
      "Epoch 41/50\n",
      "119/119 [==============================] - 35s 293ms/step - loss: 0.3559 - acc: 0.8513 - val_loss: 2.9521 - val_acc: 0.4059\n",
      "Epoch 42/50\n",
      "119/119 [==============================] - 36s 302ms/step - loss: 0.3529 - acc: 0.8519 - val_loss: 2.8962 - val_acc: 0.4133\n",
      "Epoch 43/50\n",
      "119/119 [==============================] - 36s 299ms/step - loss: 0.3487 - acc: 0.8539 - val_loss: 3.0824 - val_acc: 0.3936\n",
      "Epoch 44/50\n",
      "119/119 [==============================] - 33s 276ms/step - loss: 0.3446 - acc: 0.8563 - val_loss: 2.9192 - val_acc: 0.4077\n",
      "Epoch 45/50\n",
      "119/119 [==============================] - 33s 281ms/step - loss: 0.3413 - acc: 0.8558 - val_loss: 3.0935 - val_acc: 0.3959\n",
      "Epoch 46/50\n",
      "119/119 [==============================] - 34s 284ms/step - loss: 0.3411 - acc: 0.8575 - val_loss: 3.1063 - val_acc: 0.4045\n",
      "Epoch 47/50\n",
      "119/119 [==============================] - 33s 280ms/step - loss: 0.3390 - acc: 0.8567 - val_loss: 2.9701 - val_acc: 0.4055\n",
      "Epoch 48/50\n",
      "119/119 [==============================] - 34s 283ms/step - loss: 0.3368 - acc: 0.8597 - val_loss: 3.3129 - val_acc: 0.4032\n",
      "Epoch 49/50\n",
      "119/119 [==============================] - 33s 280ms/step - loss: 0.3344 - acc: 0.8594 - val_loss: 3.1095 - val_acc: 0.4084\n",
      "Epoch 50/50\n",
      "119/119 [==============================] - 33s 281ms/step - loss: 0.3250 - acc: 0.8628 - val_loss: 3.2247 - val_acc: 0.3965\n"
     ]
    },
    {
     "data": {
      "text/plain": [
       "<keras.callbacks.History at 0x1dcec1e1dc0>"
      ]
     },
     "execution_count": 19,
     "metadata": {},
     "output_type": "execute_result"
    }
   ],
   "source": [
    "model.compile(optimizer='adam', loss='categorical_crossentropy', metrics='acc')\n",
    "model.fit(X_train_LSTM, y_train_LSTM, validation_split=0.2, epochs=50, batch_size=500)"
   ]
  },
  {
   "cell_type": "code",
   "execution_count": 20,
   "id": "e7a22c58",
   "metadata": {},
   "outputs": [
    {
     "name": "stdout",
     "output_type": "stream",
     "text": [
      "32/32 [==============================] - 4s 12ms/step\n"
     ]
    },
    {
     "data": {
      "text/plain": [
       "{'Accuracy': 0.784, 'Precision': 0.776, 'Recall': 0.78, 'F1': 0.777}"
      ]
     },
     "execution_count": 20,
     "metadata": {},
     "output_type": "execute_result"
    }
   ],
   "source": [
    "yhat_LSTM = [np.argmax(x) for x in model.predict(X_test_LSTM)]\n",
    "score_LSTM = evaluate_metrics(y_test_LSTM, yhat_LSTM)\n",
    "score_LSTM"
   ]
  },
  {
   "cell_type": "code",
   "execution_count": 21,
   "id": "d5ce44a8",
   "metadata": {
    "scrolled": false
   },
   "outputs": [
    {
     "data": {
      "image/png": "[encoded data removed]",
      "text/plain": [
       "<Figure size 600x400 with 2 Axes>"
      ]
     },
     "metadata": {},
     "output_type": "display_data"
    },
    {
     "data": {
      "image/png": "[encoded data removed]",
      "text/plain": [
       "<Figure size 600x400 with 2 Axes>"
      ]
     },
     "metadata": {},
     "output_type": "display_data"
    },
    {
     "data": {
      "text/plain": [
       "<AxesSubplot:title={'center':'Confusion Matrix for LSTM Model'}, xlabel='Predicted', ylabel='Actual'>"
      ]
     },
     "execution_count": 21,
     "metadata": {},
     "output_type": "execute_result"
    }
   ],
   "source": [
    "LSTM_labels = le.classes_\n",
    "plot_graph(y_test_LSTM, yhat_LSTM, LSTM_labels, 'LSTM')"
   ]
  },
  {
   "cell_type": "markdown",
   "id": "01701395",
   "metadata": {},
   "source": [
    "### 3. Transformers-based Model"
   ]
  },
  {
   "cell_type": "code",
   "execution_count": 22,
   "id": "ef177485",
   "metadata": {},
   "outputs": [],
   "source": [
    "# Data preprocessing for Transformer Model\n",
    "# Transformer model only detect Positive and Negative sentiment, hence we remove the Irrelevant and Neutral Sentiment\n",
    "df_test_trans = df_test[df_test['Sentiment'].isin(['Positive','Negative'])]\n",
    "X_test_trans = df_test_trans['Tweet content'].values\n",
    "y_test_trans = df_test_trans['Sentiment']"
   ]
  },
  {
   "cell_type": "code",
   "execution_count": 23,
   "id": "ffbc5ab5",
   "metadata": {},
   "outputs": [
    {
     "name": "stderr",
     "output_type": "stream",
     "text": [
      "No model was supplied, defaulted to distilbert-base-uncased-finetuned-sst-2-english and revision af0f99b (https://huggingface.co/distilbert-base-uncased-finetuned-sst-2-english).\n",
      "Using a pipeline without specifying a model name and revision in production is not recommended.\n",
      "Some layers from the model checkpoint at distilbert-base-uncased-finetuned-sst-2-english were not used when initializing TFDistilBertForSequenceClassification: ['dropout_19']\n",
      "- This IS expected if you are initializing TFDistilBertForSequenceClassification from the checkpoint of a model trained on another task or with another architecture (e.g. initializing a BertForSequenceClassification model from a BertForPreTraining model).\n",
      "- This IS NOT expected if you are initializing TFDistilBertForSequenceClassification from the checkpoint of a model that you expect to be exactly identical (initializing a BertForSequenceClassification model from a BertForSequenceClassification model).\n",
      "Some layers of TFDistilBertForSequenceClassification were not initialized from the model checkpoint at distilbert-base-uncased-finetuned-sst-2-english and are newly initialized: ['dropout_20']\n",
      "You should probably TRAIN this model on a down-stream task to be able to use it for predictions and inference.\n"
     ]
    }
   ],
   "source": [
    "# Get y_prediction from sentiment pipeline from Transformer Library\n",
    "from transformers import pipeline\n",
    "sentiment_pipeline = pipeline('sentiment-analysis')\n",
    "\n",
    "yhat_test_trans = sentiment_pipeline([x for x in X_test_trans])"
   ]
  },
  {
   "cell_type": "code",
   "execution_count": 24,
   "id": "d16081c3",
   "metadata": {},
   "outputs": [
    {
     "data": {
      "text/plain": [
       "['Negative', 'Negative', 'Negative', 'Positive', 'Positive']"
      ]
     },
     "execution_count": 24,
     "metadata": {},
     "output_type": "execute_result"
    }
   ],
   "source": [
    "a = []\n",
    "for x in yhat_test_trans:\n",
    "    a.append(x['label'].title())\n",
    "a[:5]"
   ]
  },
  {
   "cell_type": "code",
   "execution_count": 31,
   "id": "93229fc4",
   "metadata": {},
   "outputs": [
    {
     "name": "stdout",
     "output_type": "stream",
     "text": [
      "{'Accuracy': 0.807, 'Precision': 0.826, 'Recall': 0.809, 'F1': 0.805}\n"
     ]
    },
    {
     "data": {
      "image/png": "[encoded data removed]",
      "text/plain": [
       "<Figure size 600x400 with 2 Axes>"
      ]
     },
     "metadata": {},
     "output_type": "display_data"
    },
    {
     "data": {
      "text/plain": [
       "<AxesSubplot:title={'center':'Confusion Matrix for Transformer Model'}, xlabel='Predicted', ylabel='Actual'>"
      ]
     },
     "execution_count": 31,
     "metadata": {},
     "output_type": "execute_result"
    }
   ],
   "source": [
    "score_trans = evaluate_metrics(y_test_trans,a)\n",
    "print(score_trans)\n",
    "\n",
    "plot_graph(y_test_trans, a,['Negative', 'Positive'], \"Transformer\")"
   ]
  },
  {
   "cell_type": "markdown",
   "id": "27baa7b1",
   "metadata": {},
   "source": [
    "### 4. Sentiment Intensity Analysis-based Model"
   ]
  },
  {
   "cell_type": "code",
   "execution_count": 32,
   "id": "7560b90d",
   "metadata": {},
   "outputs": [],
   "source": [
    "# Import Sentiment Intensity Analyzer from nltk\n",
    "from nltk.sentiment import SentimentIntensityAnalyzer\n",
    "sia = SentimentIntensityAnalyzer()\n",
    "\n",
    "# Data preprocessing for SIA model\n",
    "# SIA model only detect Positive and Negative sentiment, hence we remove the Irrelevant and Neutral Sentiment\n",
    "df_test_sia = df_test_clean.copy()\n",
    "df_test_sia['Sentiment'] = df_test['Sentiment']\n",
    "df_test_sia = df_test_sia[df_test_sia['Sentiment'].isin (['Positive','Negative'])]\n",
    "\n",
    "X_test_sia = df_test_sia['Tweet content']\n",
    "y_test_sia = df_test_sia['Sentiment']"
   ]
  },
  {
   "cell_type": "code",
   "execution_count": 33,
   "id": "fe24495f",
   "metadata": {},
   "outputs": [
    {
     "data": {
      "text/plain": [
       "['Negative', 'Negative', 'Positive', 'Positive', 'Positive']"
      ]
     },
     "execution_count": 33,
     "metadata": {},
     "output_type": "execute_result"
    }
   ],
   "source": [
    "# Define a dict and list to extract the information from the SIA model prediction\n",
    "trans_dict = {}\n",
    "trans_list = []\n",
    "for x in X_test_sia:\n",
    "    s = sia.polarity_scores(x)\n",
    "    for i in range(len(X_test_sia)):\n",
    "        trans_dict['Negative'] = s['neg']\n",
    "        trans_dict['Positive'] = s['pos']\n",
    "    trans_list.append(max(trans_dict.items(), key=lambda x:x[1])[0])\n",
    "    \n",
    "trans_list[:5]"
   ]
  },
  {
   "cell_type": "code",
   "execution_count": 34,
   "id": "131147a6",
   "metadata": {},
   "outputs": [
    {
     "name": "stdout",
     "output_type": "stream",
     "text": [
      "{'Accuracy': 0.724, 'Precision': 0.724, 'Recall': 0.723, 'F1': 0.723}\n"
     ]
    },
    {
     "data": {
      "image/png": "[encoded data removed]",
      "text/plain": [
       "<Figure size 600x400 with 2 Axes>"
      ]
     },
     "metadata": {},
     "output_type": "display_data"
    },
    {
     "data": {
      "text/plain": [
       "<AxesSubplot:title={'center':'Confusion Matrix for Sentiment Analyzer Model'}, xlabel='Predicted', ylabel='Actual'>"
      ]
     },
     "execution_count": 34,
     "metadata": {},
     "output_type": "execute_result"
    }
   ],
   "source": [
    "score_sia = evaluate_metrics(y_test_sia, trans_list)\n",
    "print(score_sia)\n",
    "plot_graph(y_test_sia, trans_list,['Positive','Negative'], 'Sentiment Analyzer')"
   ]
  },
  {
   "cell_type": "markdown",
   "id": "e8fe155f",
   "metadata": {},
   "source": [
    "# Overall Scores"
   ]
  },
  {
   "cell_type": "code",
   "execution_count": 35,
   "id": "a7443ef5",
   "metadata": {},
   "outputs": [
    {
     "data": {
      "text/html": [
       "<div>\n",
       "<style scoped>\n",
       "    .dataframe tbody tr th:only-of-type {\n",
       "        vertical-align: middle;\n",
       "    }\n",
       "\n",
       "    .dataframe tbody tr th {\n",
       "        vertical-align: top;\n",
       "    }\n",
       "\n",
       "    .dataframe thead th {\n",
       "        text-align: right;\n",
       "    }\n",
       "</style>\n",
       "<table border=\"1\" class=\"dataframe\">\n",
       "  <thead>\n",
       "    <tr style=\"text-align: right;\">\n",
       "      <th></th>\n",
       "      <th>Accuracy</th>\n",
       "      <th>Precision</th>\n",
       "      <th>Recall</th>\n",
       "      <th>F1</th>\n",
       "    </tr>\n",
       "  </thead>\n",
       "  <tbody>\n",
       "    <tr>\n",
       "      <th>Bag of Words</th>\n",
       "      <td>0.908</td>\n",
       "      <td>0.908</td>\n",
       "      <td>0.907</td>\n",
       "      <td>0.907</td>\n",
       "    </tr>\n",
       "    <tr>\n",
       "      <th>LSTM</th>\n",
       "      <td>0.784</td>\n",
       "      <td>0.776</td>\n",
       "      <td>0.780</td>\n",
       "      <td>0.777</td>\n",
       "    </tr>\n",
       "    <tr>\n",
       "      <th>Transformer</th>\n",
       "      <td>0.807</td>\n",
       "      <td>0.826</td>\n",
       "      <td>0.809</td>\n",
       "      <td>0.805</td>\n",
       "    </tr>\n",
       "    <tr>\n",
       "      <th>Sentiment Intensity Analyzer</th>\n",
       "      <td>0.724</td>\n",
       "      <td>0.724</td>\n",
       "      <td>0.723</td>\n",
       "      <td>0.723</td>\n",
       "    </tr>\n",
       "  </tbody>\n",
       "</table>\n",
       "</div>"
      ],
      "text/plain": [
       "                              Accuracy  Precision  Recall     F1\n",
       "Bag of Words                     0.908      0.908   0.907  0.907\n",
       "LSTM                             0.784      0.776   0.780  0.777\n",
       "Transformer                      0.807      0.826   0.809  0.805\n",
       "Sentiment Intensity Analyzer     0.724      0.724   0.723  0.723"
      ]
     },
     "execution_count": 35,
     "metadata": {},
     "output_type": "execute_result"
    }
   ],
   "source": [
    "pd.DataFrame([score_bow, score_LSTM, score_trans, score_sia], \n",
    "             index=['Bag of Words','LSTM','Transformer','Sentiment Intensity Analyzer'])"
   ]
  }
 ],
 "metadata": {
  "kernelspec": {
   "display_name": "Python 3 (ipykernel)",
   "language": "python",
   "name": "python3"
  },
  "language_info": {
   "codemirror_mode": {
    "name": "ipython",
    "version": 3
   },
   "file_extension": ".py",
   "mimetype": "text/x-python",
   "name": "python",
   "nbconvert_exporter": "python",
   "pygments_lexer": "ipython3",
   "version": "3.9.12"
  }
 },
 "nbformat": 4,
 "nbformat_minor": 5
}
